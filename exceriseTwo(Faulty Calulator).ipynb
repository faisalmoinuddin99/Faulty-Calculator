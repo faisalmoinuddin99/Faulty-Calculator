{
 "cells": [
  {
   "cell_type": "code",
   "execution_count": null,
   "metadata": {},
   "outputs": [],
   "source": [
    "# Faulty Calulator\n",
    "# 45 * 3 = 555, 56 + 9 = 77, 56/6 = 4"
   ]
  },
  {
   "cell_type": "code",
   "execution_count": 20,
   "metadata": {},
   "outputs": [
    {
     "name": "stdout",
     "output_type": "stream",
     "text": [
      "Enter the first number:\n",
      "56\n",
      "Enter the second number:\n",
      "6\n",
      "Enter the operator\n",
      "/\n",
      "4\n"
     ]
    }
   ],
   "source": [
    "def add(a,b):\n",
    "    if a == 56 and b == 9:\n",
    "        return 77\n",
    "    else:\n",
    "        return a + b \n",
    "\n",
    "def sub(a,b):\n",
    "    return a - b\n",
    "\n",
    "def mul(a,b):\n",
    "    if a == 45 and b == 3:\n",
    "        return 555\n",
    "    else:\n",
    "        return a * b\n",
    "    \n",
    "def div(a,b):\n",
    "    if a == 56 and b == 6:\n",
    "        return 4\n",
    "    else:\n",
    "        return a / b\n",
    "\n",
    "\n",
    "\n",
    "print(\"Enter the first number:\")\n",
    "num1 = int(input())\n",
    "print(\"Enter the second number:\")\n",
    "num2 = int(input())\n",
    "print(\"Enter the operator\")\n",
    "operator = input()\n",
    "\n",
    "if operator == '-':\n",
    "    res = sub(num1,num2)\n",
    "    print(res)\n",
    "\n",
    "elif operator == '+':\n",
    "    res = add(num1,num2)\n",
    "    print(res)\n",
    "    \n",
    "elif operator == '*':\n",
    "    res = mul(num1,num2)\n",
    "    print(res)\n",
    "    \n",
    "elif operator == '/':\n",
    "    res = div(num1,num2)\n",
    "    print(res)\n",
    "\n",
    "else:\n",
    "    print(\"Wrong Input!\")\n",
    "    \n",
    "\n",
    "\n",
    "\n",
    "\n",
    "    \n",
    "    "
   ]
  },
  {
   "cell_type": "code",
   "execution_count": null,
   "metadata": {},
   "outputs": [],
   "source": []
  }
 ],
 "metadata": {
  "kernelspec": {
   "display_name": "Python 3",
   "language": "python",
   "name": "python3"
  },
  "language_info": {
   "codemirror_mode": {
    "name": "ipython",
    "version": 3
   },
   "file_extension": ".py",
   "mimetype": "text/x-python",
   "name": "python",
   "nbconvert_exporter": "python",
   "pygments_lexer": "ipython3",
   "version": "3.7.4"
  }
 },
 "nbformat": 4,
 "nbformat_minor": 2
}
